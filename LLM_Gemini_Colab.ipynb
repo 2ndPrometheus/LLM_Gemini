{
  "cells": [
    {
      "cell_type": "markdown",
      "metadata": {
        "id": "view-in-github",
        "colab_type": "text"
      },
      "source": [
        "<a href=\"https://colab.research.google.com/github/2ndPrometheus/LLM_Gemini/blob/main/LLM_Gemini_Colab.ipynb\" target=\"_parent\"><img src=\"https://colab.research.google.com/assets/colab-badge.svg\" alt=\"Open In Colab\"/></a>"
      ]
    },
    {
      "cell_type": "markdown",
      "metadata": {
        "id": "Tce3stUlHN0L"
      },
      "source": [
        "##### Copyright 2024 Google LLC."
      ]
    },
    {
      "cell_type": "code",
      "execution_count": null,
      "metadata": {
        "cellView": "form",
        "id": "tuOe1ymfHZPu"
      },
      "outputs": [],
      "source": [
        "#@title Licensed under the Apache License, Version 2.0 (the \"License\");\n",
        "# you may not use this file except in compliance with the License.\n",
        "# You may obtain a copy of the License at\n",
        "#\n",
        "# https://www.apache.org/licenses/LICENSE-2.0\n",
        "#\n",
        "# Unless required by applicable law or agreed to in writing, software\n",
        "# distributed under the License is distributed on an \"AS IS\" BASIS,\n",
        "# WITHOUT WARRANTIES OR CONDITIONS OF ANY KIND, either express or implied.\n",
        "# See the License for the specific language governing permissions and\n",
        "# limitations under the License."
      ]
    },
    {
      "cell_type": "markdown",
      "metadata": {
        "id": "-QhPWE1lwZHH"
      },
      "source": [
        "# Gemini API Python quickstart"
      ]
    },
    {
      "cell_type": "markdown",
      "metadata": {
        "id": "fa7c47ae6451"
      },
      "source": [
        "<table class=\"tfo-notebook-buttons\" align=\"left\">\n",
        "  <td>\n",
        "    <a target=\"_blank\" href=\"https://ai.google.dev/tutorials/quickstart_colab\"><img src=\"https://ai.google.dev/static/site-assets/images/docs/notebook-site-button.png\" height=\"32\" width=\"32\" />View on Google AI</a>\n",
        "  </td>\n",
        "  <td>\n",
        "    <a target=\"_blank\" href=\"https://colab.research.google.com/github/google/generative-ai-docs/blob/main/site/en/tutorials/quickstart_colab.ipynb\"><img src=\"https://www.tensorflow.org/images/colab_logo_32px.png\" />Run in Google Colab</a>\n",
        "  </td>\n",
        "  <td>\n",
        "    <a target=\"_blank\" href=\"https://github.com/google/generative-ai-docs/blob/main/site/en/tutorials/quickstart_colab.ipynb\"><img src=\"https://www.tensorflow.org/images/GitHub-Mark-32px.png\" />View source on GitHub</a>\n",
        "  </td>\n",
        "</table>"
      ]
    },
    {
      "cell_type": "markdown",
      "metadata": {
        "id": "db29b8d4247e"
      },
      "source": [
        "This tutorial shows you how to get started with the Gemini API using the Python SDK."
      ]
    },
    {
      "cell_type": "markdown",
      "metadata": {
        "id": "NNNg43Ymw54e"
      },
      "source": [
        "## Prerequisites\n",
        "\n",
        "You can run this tutorial in Google Colab, which doesn't require additional environment configuration.\n",
        "\n",
        "Alternatively, to complete this quickstart locally, see the Python guidance in [Get started with the Gemini API](https://ai.google.dev/tutorials/quickstart)."
      ]
    },
    {
      "cell_type": "markdown",
      "metadata": {
        "id": "kHkHARdb1ZID"
      },
      "source": [
        "## Install the SDK\n",
        "\n",
        "The Python SDK for the Gemini API is contained in the [`google-generativeai`](https://pypi.org/project/google-generativeai/) package. Install the dependency using pip:"
      ]
    },
    {
      "cell_type": "code",
      "execution_count": null,
      "metadata": {
        "id": "J6Pd9SFJ1yVi"
      },
      "outputs": [],
      "source": [
        "!pip install -q -U google-generativeai"
      ]
    },
    {
      "cell_type": "markdown",
      "metadata": {
        "id": "EeMCtmx9ykyx"
      },
      "source": [
        "## Set up your API key\n",
        "\n",
        "To use the Gemini API, you'll need an API key. If you don't already have one, create a key in Google AI Studio.\n",
        "\n",
        "<a class=\"button\" href=\"https://aistudio.google.com/app/apikey\" target=\"_blank\" rel=\"noopener noreferrer\">Get an API key</a>\n",
        "\n",
        "In Colab, add the key to the secrets manager under the \"🔑\" in the left panel. Give it the name `GOOGLE_API_KEY`. Then pass the key to the SDK:"
      ]
    },
    {
      "cell_type": "code",
      "execution_count": null,
      "metadata": {
        "id": "HTiaTu6O1LRC"
      },
      "outputs": [],
      "source": [
        "# Import the Python SDK\n",
        "import google.generativeai as genai\n",
        "# Used to securely store your API key\n",
        "from google.colab import userdata\n",
        "\n",
        "GOOGLE_API_KEY=userdata.get('GOOGLE_API_KEY')\n",
        "genai.configure(api_key=GOOGLE_API_KEY)"
      ]
    },
    {
      "cell_type": "markdown",
      "metadata": {
        "id": "CZPYk29o2No0"
      },
      "source": [
        "## Initialize the Generative Model\n",
        "\n",
        "Before you can make any API calls, you need to initialize the Generative Model."
      ]
    },
    {
      "cell_type": "code",
      "execution_count": null,
      "metadata": {
        "id": "s-JqXcDe2hZ_"
      },
      "outputs": [],
      "source": [
        "model = genai.GenerativeModel('gemini-pro')"
      ]
    },
    {
      "cell_type": "markdown",
      "metadata": {
        "id": "nXxypzJH4MUl"
      },
      "source": [
        "## Generate text"
      ]
    },
    {
      "cell_type": "code",
      "source": [
        "content = \"1. Can you solve 2x + 3 = 7?\\n2. What are some ways to eat bananas and dragonfruits together?\\n3. Explain the benefits of daily exercise.\"\n",
        "response = model.generate_content(content)\n",
        "print(response.text)\n"
      ],
      "metadata": {
        "id": "T0y9KxB66AL3",
        "outputId": "c17e5d5a-1fb7-4e6e-eece-ba710eaa43bd",
        "colab": {
          "base_uri": "https://localhost:8080/",
          "height": 609
        }
      },
      "execution_count": null,
      "outputs": [
        {
          "output_type": "stream",
          "name": "stdout",
          "text": [
            "1. **Solving 2x + 3 = 7**\n",
            "\n",
            "To solve for x, we need to isolate it on one side of the equation:\n",
            "\n",
            "* Subtract 3 from both sides: 2x = 4\n",
            "* Divide both sides by 2: x = 2\n",
            "\n",
            "**Therefore, the solution to 2x + 3 = 7 is x = 2.**\n",
            "\n",
            "2. **Ways to Eat Bananas and Dragonfruits Together**\n",
            "\n",
            "* **Smoothie:** Blend bananas, dragonfruits, yogurt, and fruit juice for a refreshing and nutritious smoothie.\n",
            "* **Fruit Salad:** Combine sliced bananas and dragonfruits with other fruits like strawberries, blueberries, or mangoes for a colorful and healthy fruit salad.\n",
            "* **Yogurt Parfait:** Layer sliced bananas, dragonfruits, granola, and yogurt in a parfait glass for a satisfying breakfast or snack.\n",
            "* **Fruit Pizza:** Spread a mixture of mashed bananas and dragonfruits on a pizza crust and top with granola, nuts, and coconut.\n",
            "* **Fruit Popsicles:** Freeze blended bananas and dragonfruits to create healthy and refreshing popsicles.\n",
            "* **Fruit Dip:** Puree a mixture of bananas and dragonfruits and serve as a dip for crackers, cookies, or fruit.\n",
            "\n",
            "3. **Benefits of Daily Exercise**\n",
            "\n",
            "Regular exercise provides numerous benefits for physical and mental health, including:\n",
            "\n",
            "* **Improved Cardiovascular Health:** Exercise strengthens the heart and lungs, reducing the risk of cardiovascular diseases like heart attack and stroke.\n",
            "* **Weight Management:** Exercise helps burn calories and build muscle, which supports weight loss and maintenance.\n",
            "* **Stronger Muscles and Bones:** Exercise builds and strengthens muscles, while weight-bearing exercises help maintain bone density.\n",
            "* **Reduced Risk of Chronic Diseases:** Exercise has been linked to a lower risk of chronic diseases like type 2 diabetes, certain types of cancer, and arthritis.\n",
            "* **Improved Mood and Sleep:** Exercise releases endorphins, which have mood-boosting effects, and can also improve sleep quality.\n",
            "* **Cognitive Benefits:** Exercise has been shown to improve cognitive function, memory, and focus.\n",
            "* **Stress Relief:** Exercise can be a great way to reduce stress and tension.\n",
            "* **Increased Energy Levels:** Regular exercise can increase energy levels and reduce fatigue.\n",
            "* **Improved Balance and Coordination:** Exercise can improve balance and coordination, reducing the risk of falls and injuries.\n",
            "* **Social Benefits:** Exercise can be a social activity, providing opportunities to connect with others.\n"
          ]
        }
      ]
    },
    {
      "cell_type": "code",
      "execution_count": null,
      "metadata": {
        "id": "j51mcrLD4Y2W",
        "outputId": "7a9a0a4f-fe82-445e-e0d4-9bd97df8282d",
        "colab": {
          "base_uri": "https://localhost:8080/",
          "height": 392
        }
      },
      "outputs": [
        {
          "output_type": "stream",
          "name": "stdout",
          "text": [
            "**Step 1: Subtract 3 from both sides of the equation.**\n",
            "\n",
            "```\n",
            "2x + 3 - 3 = 7 - 3\n",
            "```\n",
            "\n",
            "```\n",
            "2x = 4\n",
            "```\n",
            "\n",
            "**Step 2: Divide both sides of the equation by 2.**\n",
            "\n",
            "```\n",
            "(2x) / 2 = 4 / 2\n",
            "```\n",
            "\n",
            "```\n",
            "x = 2\n",
            "```\n",
            "\n",
            "Therefore, the solution to the equation 2x + 3 = 7 is **x = 2**.\n"
          ]
        }
      ],
      "source": [
        "response = model.generate_content(\"What about solving an 2x + 3 = 7 equation?\")\n",
        "print(response.text)"
      ]
    },
    {
      "cell_type": "markdown",
      "metadata": {
        "id": "zUUAQS9u4biH"
      },
      "source": [
        "## What's next\n",
        "\n",
        "To learn more about working with the Gemini API, see the [Python tutorial](https://ai.google.dev/tutorials/python_quickstart).\n",
        "\n",
        "If you're new to generative AI models, you might want to look at the\n",
        "[concepts guide](https://ai.google.dev/docs/concepts) and the\n",
        "[Gemini API overview](https://ai.google.dev/docs/gemini_api_overview)."
      ]
    }
  ],
  "metadata": {
    "colab": {
      "provenance": [],
      "include_colab_link": true
    },
    "kernelspec": {
      "display_name": "Python 3",
      "name": "python3"
    }
  },
  "nbformat": 4,
  "nbformat_minor": 0
}